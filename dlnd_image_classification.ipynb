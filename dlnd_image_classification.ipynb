{
 "cells": [
  {
   "cell_type": "markdown",
   "metadata": {
    "collapsed": true
   },
   "source": [
    "# Image Classification\n",
    "In this project, you'll classify images from the [CIFAR-10 dataset](https://www.cs.toronto.edu/~kriz/cifar.html).  The dataset consists of airplanes, dogs, cats, and other objects. You'll preprocess the images, then train a convolutional neural network on all the samples. The images need to be normalized and the labels need to be one-hot encoded.  You'll get to apply what you learned and build a convolutional, max pooling, dropout, and fully connected layers.  At the end, you'll get to see your neural network's predictions on the sample images.\n",
    "## Get the Data\n",
    "Run the following cell to download the [CIFAR-10 dataset for python](https://www.cs.toronto.edu/~kriz/cifar-10-python.tar.gz)."
   ]
  },
  {
   "cell_type": "code",
   "execution_count": 1,
   "metadata": {},
   "outputs": [
    {
     "name": "stderr",
     "output_type": "stream",
     "text": [
      "CIFAR-10 Dataset: 171MB [01:11, 2.39MB/s]                                                                                    \n"
     ]
    },
    {
     "name": "stdout",
     "output_type": "stream",
     "text": [
      "All files found!\n"
     ]
    }
   ],
   "source": [
    "\"\"\"\n",
    "DON'T MODIFY ANYTHING IN THIS CELL THAT IS BELOW THIS LINE\n",
    "\"\"\"\n",
    "from urllib.request import urlretrieve\n",
    "from os.path import isfile, isdir\n",
    "from tqdm import tqdm\n",
    "import problem_unittests as tests\n",
    "import tarfile\n",
    "\n",
    "cifar10_dataset_folder_path = 'cifar-10-batches-py'\n",
    "\n",
    "# Use Floyd's cifar-10 dataset if present\n",
    "floyd_cifar10_location = '/input/cifar-10/python.tar.gz'\n",
    "if isfile(floyd_cifar10_location):\n",
    "    tar_gz_path = floyd_cifar10_location\n",
    "else:\n",
    "    tar_gz_path = 'cifar-10-python.tar.gz'\n",
    "\n",
    "class DLProgress(tqdm):\n",
    "    last_block = 0\n",
    "\n",
    "    def hook(self, block_num=1, block_size=1, total_size=None):\n",
    "        self.total = total_size\n",
    "        self.update((block_num - self.last_block) * block_size)\n",
    "        self.last_block = block_num\n",
    "\n",
    "if not isfile(tar_gz_path):\n",
    "    with DLProgress(unit='B', unit_scale=True, miniters=1, desc='CIFAR-10 Dataset') as pbar:\n",
    "        urlretrieve(\n",
    "            'https://www.cs.toronto.edu/~kriz/cifar-10-python.tar.gz',\n",
    "            tar_gz_path,\n",
    "            pbar.hook)\n",
    "\n",
    "if not isdir(cifar10_dataset_folder_path):\n",
    "    with tarfile.open(tar_gz_path) as tar:\n",
    "        tar.extractall()\n",
    "        tar.close()\n",
    "\n",
    "\n",
    "tests.test_folder_path(cifar10_dataset_folder_path)"
   ]
  },
  {
   "cell_type": "markdown",
   "metadata": {},
   "source": [
    "## Explore the Data\n",
    "The dataset is broken into batches to prevent your machine from running out of memory.  The CIFAR-10 dataset consists of 5 batches, named `data_batch_1`, `data_batch_2`, etc.. Each batch contains the labels and images that are one of the following:\n",
    "* airplane\n",
    "* automobile\n",
    "* bird\n",
    "* cat\n",
    "* deer\n",
    "* dog\n",
    "* frog\n",
    "* horse\n",
    "* ship\n",
    "* truck\n",
    "\n",
    "Understanding a dataset is part of making predictions on the data.  Play around with the code cell below by changing the `batch_id` and `sample_id`. The `batch_id` is the id for a batch (1-5). The `sample_id` is the id for a image and label pair in the batch.\n",
    "\n",
    "Ask yourself \"What are all possible labels?\", \"What is the range of values for the image data?\", \"Are the labels in order or random?\".  Answers to questions like these will help you preprocess the data and end up with better predictions."
   ]
  },
  {
   "cell_type": "code",
   "execution_count": 2,
   "metadata": {
    "scrolled": false
   },
   "outputs": [
    {
     "name": "stdout",
     "output_type": "stream",
     "text": [
      "\n",
      "Stats of batch 1:\n",
      "Samples: 10000\n",
      "Label Counts: {0: 1005, 1: 974, 2: 1032, 3: 1016, 4: 999, 5: 937, 6: 1030, 7: 1001, 8: 1025, 9: 981}\n",
      "First 20 Labels: [6, 9, 9, 4, 1, 1, 2, 7, 8, 3, 4, 7, 7, 2, 9, 9, 9, 3, 2, 6]\n",
      "\n",
      "Example of Image 666:\n",
      "Image - Min Value: 0 Max Value: 255\n",
      "Image - Shape: (32, 32, 3)\n",
      "Label - Label Id: 9 Name: truck\n"
     ]
    },
    {
     "data": {
      "image/png": "[encoded data removed]",
      "text/plain": [
       "<Figure size 432x288 with 1 Axes>"
      ]
     },
     "metadata": {
      "image/png": {
       "height": 250,
       "width": 253
      },
      "needs_background": "light"
     },
     "output_type": "display_data"
    }
   ],
   "source": [
    "%matplotlib inline\n",
    "%config InlineBackend.figure_format = 'retina'\n",
    "\n",
    "import helper\n",
    "import numpy as np\n",
    "\n",
    "# Explore the dataset\n",
    "batch_id = 1\n",
    "sample_id = 666\n",
    "helper.display_stats(cifar10_dataset_folder_path, batch_id, sample_id)"
   ]
  },
  {
   "cell_type": "markdown",
   "metadata": {},
   "source": [
    "## Implement Preprocess Functions\n",
    "### Normalize\n",
    "In the cell below, implement the `normalize` function to take in image data, `x`, and return it as a normalized Numpy array. The values should be in the range of 0 to 1, inclusive.  The return object should be the same shape as `x`."
   ]
  },
  {
   "cell_type": "code",
   "execution_count": 3,
   "metadata": {},
   "outputs": [
    {
     "name": "stdout",
     "output_type": "stream",
     "text": [
      "Tests Passed\n"
     ]
    }
   ],
   "source": [
    "def normalize(x):\n",
    "    \"\"\"\n",
    "    Normalize a list of sample image data in the range of 0 to 1\n",
    "    : x: List of image data.  The image shape is (32, 32, 3)\n",
    "    : return: Numpy array of normalize data\n",
    "    \"\"\"\n",
    "    # TODO: Implement Function\n",
    "    x = np.array(x)\n",
    "    x = x.astype('float')\n",
    "    x /= 255.0\n",
    "    return x\n",
    "\"\"\"\n",
    "DON'T MODIFY ANYTHING IN THIS CELL THAT IS BELOW THIS LINE\n",
    "\"\"\"\n",
    "tests.test_normalize(normalize)"
   ]
  },
  {
   "cell_type": "markdown",
   "metadata": {},
   "source": [
    "### One-hot encode\n",
    "Just like the previous code cell, you'll be implementing a function for preprocessing.  This time, you'll implement the `one_hot_encode` function. The input, `x`, are a list of labels.  Implement the function to return the list of labels as One-Hot encoded Numpy array.  The possible values for labels are 0 to 9. The one-hot encoding function should return the same encoding for each value between each call to `one_hot_encode`.  Make sure to save the map of encodings outside the function.\n",
    "\n",
    "Hint: Don't reinvent the wheel."
   ]
  },
  {
   "cell_type": "code",
   "execution_count": 4,
   "metadata": {},
   "outputs": [
    {
     "name": "stdout",
     "output_type": "stream",
     "text": [
      "Tests Passed\n"
     ]
    }
   ],
   "source": [
    "def one_hot_encode(x):\n",
    "    \"\"\"\n",
    "    One hot encode a list of sample labels. Return a one-hot encoded vector for each label.\n",
    "    : x: List of sample Labels\n",
    "    : return: Numpy array of one-hot encoded labels\n",
    "    \"\"\"\n",
    "    # TODO: Implement Function\n",
    "    encd = []\n",
    "    for i in range(len(x)):\n",
    "        ohe = np.zeros(10)\n",
    "        ohe[x[i]] = 1\n",
    "        encd.append(ohe)\n",
    "    return np.array(encd)\n",
    "\n",
    "\n",
    "\"\"\"\n",
    "DON'T MODIFY ANYTHING IN THIS CELL THAT IS BELOW THIS LINE\n",
    "\"\"\"\n",
    "tests.test_one_hot_encode(one_hot_encode)"
   ]
  },
  {
   "cell_type": "markdown",
   "metadata": {},
   "source": [
    "### Randomize Data\n",
    "As you saw from exploring the data above, the order of the samples are randomized.  It doesn't hurt to randomize it again, but you don't need to for this dataset."
   ]
  },
  {
   "cell_type": "markdown",
   "metadata": {},
   "source": [
    "## Preprocess all the data and save it\n",
    "Running the code cell below will preprocess all the CIFAR-10 data and save it to file. The code below also uses 10% of the training data for validation."
   ]
  },
  {
   "cell_type": "code",
   "execution_count": 5,
   "metadata": {},
   "outputs": [],
   "source": [
    "\"\"\"\n",
    "DON'T MODIFY ANYTHING IN THIS CELL\n",
    "\"\"\"\n",
    "# Preprocess Training, Validation, and Testing Data\n",
    "helper.preprocess_and_save_data(cifar10_dataset_folder_path, normalize, one_hot_encode)"
   ]
  },
  {
   "cell_type": "markdown",
   "metadata": {},
   "source": [
    "# Check Point\n",
    "This is your first checkpoint.  If you ever decide to come back to this notebook or have to restart the notebook, you can start from here.  The preprocessed data has been saved to disk."
   ]
  },
  {
   "cell_type": "code",
   "execution_count": 6,
   "metadata": {},
   "outputs": [],
   "source": [
    "\"\"\"\n",
    "DON'T MODIFY ANYTHING IN THIS CELL\n",
    "\"\"\"\n",
    "import pickle\n",
    "import problem_unittests as tests\n",
    "import helper\n",
    "\n",
    "# Load the Preprocessed Validation data\n",
    "valid_features, valid_labels = pickle.load(open('preprocess_validation.p', mode='rb'))"
   ]
  },
  {
   "cell_type": "markdown",
   "metadata": {},
   "source": [
    "## Build the network\n",
    "For the neural network, you'll build each layer into a function.  Most of the code you've seen has been outside of functions. To test your code more thoroughly, we require that you put each layer in a function.  This allows us to give you better feedback and test for simple mistakes using our unittests before you submit your project.\n",
    "\n",
    ">**Note:** If you're finding it hard to dedicate enough time for this course each week, we've provided a small shortcut to this part of the project. In the next couple of problems, you'll have the option to use classes from the [TensorFlow Layers](https://www.tensorflow.org/api_docs/python/tf/layers) or [TensorFlow Layers (contrib)](https://www.tensorflow.org/api_guides/python/contrib.layers) packages to build each layer, except the layers you build in the \"Convolutional and Max Pooling Layer\" section.  TF Layers is similar to Keras's and TFLearn's abstraction to layers, so it's easy to pickup.\n",
    "\n",
    ">However, if you would like to get the most out of this course, try to solve all the problems _without_ using anything from the TF Layers packages. You **can** still use classes from other packages that happen to have the same name as ones you find in TF Layers! For example, instead of using the TF Layers version of the `conv2d` class, [tf.layers.conv2d](https://www.tensorflow.org/api_docs/python/tf/layers/conv2d), you would want to use the TF Neural Network version of `conv2d`, [tf.nn.conv2d](https://www.tensorflow.org/api_docs/python/tf/nn/conv2d). \n",
    "\n",
    "Let's begin!\n",
    "\n",
    "### Input\n",
    "The neural network needs to read the image data, one-hot encoded labels, and dropout keep probability. Implement the following functions\n",
    "* Implement `neural_net_image_input`\n",
    " * Return a [TF Placeholder](https://www.tensorflow.org/api_docs/python/tf/placeholder)\n",
    " * Set the shape using `image_shape` with batch size set to `None`.\n",
    " * Name the TensorFlow placeholder \"x\" using the TensorFlow `name` parameter in the [TF Placeholder](https://www.tensorflow.org/api_docs/python/tf/placeholder).\n",
    "* Implement `neural_net_label_input`\n",
    " * Return a [TF Placeholder](https://www.tensorflow.org/api_docs/python/tf/placeholder)\n",
    " * Set the shape using `n_classes` with batch size set to `None`.\n",
    " * Name the TensorFlow placeholder \"y\" using the TensorFlow `name` parameter in the [TF Placeholder](https://www.tensorflow.org/api_docs/python/tf/placeholder).\n",
    "* Implement `neural_net_keep_prob_input`\n",
    " * Return a [TF Placeholder](https://www.tensorflow.org/api_docs/python/tf/placeholder) for dropout keep probability.\n",
    " * Name the TensorFlow placeholder \"keep_prob\" using the TensorFlow `name` parameter in the [TF Placeholder](https://www.tensorflow.org/api_docs/python/tf/placeholder).\n",
    "\n",
    "These names will be used at the end of the project to load your saved model.\n",
    "\n",
    "Note: `None` for shapes in TensorFlow allow for a dynamic size."
   ]
  },
  {
   "cell_type": "code",
   "execution_count": 7,
   "metadata": {},
   "outputs": [
    {
     "name": "stdout",
     "output_type": "stream",
     "text": [
      "Image Input Tests Passed.\n",
      "Label Input Tests Passed.\n",
      "Keep Prob Tests Passed.\n"
     ]
    }
   ],
   "source": [
    "import tensorflow as tf\n",
    "\n",
    "def neural_net_image_input(image_shape):\n",
    "    \"\"\"\n",
    "    Return a Tensor for a batch of image input\n",
    "    : image_shape: Shape of the images\n",
    "    : return: Tensor for image input.\n",
    "    \"\"\"\n",
    "    # TODO: Implement Function\n",
    "    shape = []\n",
    "    shape.append(None)\n",
    "    for i in image_shape:\n",
    "        shape.append(i)\n",
    "    batch = tf.placeholder(tf.float32, shape=tuple(shape), name='x')\n",
    "    return batch\n",
    "\n",
    "\n",
    "def neural_net_label_input(n_classes):\n",
    "    \"\"\"\n",
    "    Return a Tensor for a batch of label input\n",
    "    : n_classes: Number of classes\n",
    "    : return: Tensor for label input.\n",
    "    \"\"\"\n",
    "    # TODO: Implement Function\n",
    "    shape = []\n",
    "    shape.append(None)\n",
    "    shape.append(n_classes)\n",
    "    shape = tuple(shape)\n",
    "    return tf.placeholder(tf.float32, shape=shape, name='y')\n",
    "\n",
    "\n",
    "def neural_net_keep_prob_input():\n",
    "    \"\"\"\n",
    "    Return a Tensor for keep probability\n",
    "    : return: Tensor for keep probability.\n",
    "    \"\"\"\n",
    "    # TODO: Implement Function\n",
    "    return tf.placeholder(tf.float32, name='keep_prob')\n",
    "\n",
    "\n",
    "\"\"\"\n",
    "DON'T MODIFY ANYTHING IN THIS CELL THAT IS BELOW THIS LINE\n",
    "\"\"\"\n",
    "tf.reset_default_graph()\n",
    "tests.test_nn_image_inputs(neural_net_image_input)\n",
    "tests.test_nn_label_inputs(neural_net_label_input)\n",
    "tests.test_nn_keep_prob_inputs(neural_net_keep_prob_input)"
   ]
  },
  {
   "cell_type": "markdown",
   "metadata": {},
   "source": [
    "### Convolution and Max Pooling Layer\n",
    "Convolution layers have a lot of success with images. For this code cell, you should implement the function `conv2d_maxpool` to apply convolution then max pooling:\n",
    "* Create the weight and bias using `conv_ksize`, `conv_num_outputs` and the shape of `x_tensor`.\n",
    "* Apply a convolution to `x_tensor` using weight and `conv_strides`.\n",
    " * We recommend you use same padding, but you're welcome to use any padding.\n",
    "* Add bias\n",
    "* Add a nonlinear activation to the convolution.\n",
    "* Apply Max Pooling using `pool_ksize` and `pool_strides`.\n",
    " * We recommend you use same padding, but you're welcome to use any padding.\n",
    "\n",
    "**Note:** You **can't** use [TensorFlow Layers](https://www.tensorflow.org/api_docs/python/tf/layers) or [TensorFlow Layers (contrib)](https://www.tensorflow.org/api_guides/python/contrib.layers) for **this** layer, but you can still use TensorFlow's [Neural Network](https://www.tensorflow.org/api_docs/python/tf/nn) package. You may still use the shortcut option for all the **other** layers."
   ]
  },
  {
   "cell_type": "code",
   "execution_count": 11,
   "metadata": {},
   "outputs": [
    {
     "ename": "ValueError",
     "evalue": "Conv2D on data format NHWC requires the stride attribute to contain 4 values, but got: 2 for 'Conv2D' (op: 'Conv2D') with input shapes: [?,32,32,5], [2,2,5,10].",
     "output_type": "error",
     "traceback": [
      "\u001b[1;31m---------------------------------------------------------------------------\u001b[0m",
      "\u001b[1;31mInvalidArgumentError\u001b[0m                      Traceback (most recent call last)",
      "\u001b[1;32m~\\Anaconda3\\lib\\site-packages\\tensorflow\\python\\framework\\ops.py\u001b[0m in \u001b[0;36m_create_c_op\u001b[1;34m(graph, node_def, inputs, control_inputs)\u001b[0m\n\u001b[0;32m   1588\u001b[0m   \u001b[1;32mtry\u001b[0m\u001b[1;33m:\u001b[0m\u001b[1;33m\u001b[0m\u001b[0m\n\u001b[1;32m-> 1589\u001b[1;33m     \u001b[0mc_op\u001b[0m \u001b[1;33m=\u001b[0m \u001b[0mc_api\u001b[0m\u001b[1;33m.\u001b[0m\u001b[0mTF_FinishOperation\u001b[0m\u001b[1;33m(\u001b[0m\u001b[0mop_desc\u001b[0m\u001b[1;33m)\u001b[0m\u001b[1;33m\u001b[0m\u001b[0m\n\u001b[0m\u001b[0;32m   1590\u001b[0m   \u001b[1;32mexcept\u001b[0m \u001b[0merrors\u001b[0m\u001b[1;33m.\u001b[0m\u001b[0mInvalidArgumentError\u001b[0m \u001b[1;32mas\u001b[0m \u001b[0me\u001b[0m\u001b[1;33m:\u001b[0m\u001b[1;33m\u001b[0m\u001b[0m\n",
      "\u001b[1;31mInvalidArgumentError\u001b[0m: Conv2D on data format NHWC requires the stride attribute to contain 4 values, but got: 2 for 'Conv2D' (op: 'Conv2D') with input shapes: [?,32,32,5], [2,2,5,10].",
      "\nDuring handling of the above exception, another exception occurred:\n",
      "\u001b[1;31mValueError\u001b[0m                                Traceback (most recent call last)",
      "\u001b[1;32m<ipython-input-11-3d923205e6ff>\u001b[0m in \u001b[0;36m<module>\u001b[1;34m()\u001b[0m\n\u001b[0;32m     37\u001b[0m \u001b[0mDON\u001b[0m\u001b[0;31m'\u001b[0m\u001b[0mT\u001b[0m \u001b[0mMODIFY\u001b[0m \u001b[0mANYTHING\u001b[0m \u001b[0mIN\u001b[0m \u001b[0mTHIS\u001b[0m \u001b[0mCELL\u001b[0m \u001b[0mTHAT\u001b[0m \u001b[0mIS\u001b[0m \u001b[0mBELOW\u001b[0m \u001b[0mTHIS\u001b[0m \u001b[0mLINE\u001b[0m\u001b[1;33m\u001b[0m\u001b[0m\n\u001b[0;32m     38\u001b[0m \"\"\"\n\u001b[1;32m---> 39\u001b[1;33m \u001b[0mtests\u001b[0m\u001b[1;33m.\u001b[0m\u001b[0mtest_con_pool\u001b[0m\u001b[1;33m(\u001b[0m\u001b[0mconv2d_maxpool\u001b[0m\u001b[1;33m)\u001b[0m\u001b[1;33m\u001b[0m\u001b[0m\n\u001b[0m",
      "\u001b[1;32mD:\\Ntinou\\Documents\\DLND\\Submissions\\2 - CNN submission\\problem_unittests.py\u001b[0m in \u001b[0;36mtest_con_pool\u001b[1;34m(conv2d_maxpool)\u001b[0m\n\u001b[0;32m    131\u001b[0m     \u001b[0mtest_pool_s\u001b[0m \u001b[1;33m=\u001b[0m \u001b[1;33m(\u001b[0m\u001b[1;36m2\u001b[0m\u001b[1;33m,\u001b[0m \u001b[1;36m2\u001b[0m\u001b[1;33m)\u001b[0m\u001b[1;33m\u001b[0m\u001b[0m\n\u001b[0;32m    132\u001b[0m \u001b[1;33m\u001b[0m\u001b[0m\n\u001b[1;32m--> 133\u001b[1;33m     \u001b[0mconv2d_maxpool_out\u001b[0m \u001b[1;33m=\u001b[0m \u001b[0mconv2d_maxpool\u001b[0m\u001b[1;33m(\u001b[0m\u001b[0mtest_x\u001b[0m\u001b[1;33m,\u001b[0m \u001b[0mtest_num_outputs\u001b[0m\u001b[1;33m,\u001b[0m \u001b[0mtest_con_k\u001b[0m\u001b[1;33m,\u001b[0m \u001b[0mtest_con_s\u001b[0m\u001b[1;33m,\u001b[0m \u001b[0mtest_pool_k\u001b[0m\u001b[1;33m,\u001b[0m \u001b[0mtest_pool_s\u001b[0m\u001b[1;33m)\u001b[0m\u001b[1;33m\u001b[0m\u001b[0m\n\u001b[0m\u001b[0;32m    134\u001b[0m \u001b[1;33m\u001b[0m\u001b[0m\n\u001b[0;32m    135\u001b[0m     \u001b[1;32massert\u001b[0m \u001b[0mconv2d_maxpool_out\u001b[0m\u001b[1;33m.\u001b[0m\u001b[0mget_shape\u001b[0m\u001b[1;33m(\u001b[0m\u001b[1;33m)\u001b[0m\u001b[1;33m.\u001b[0m\u001b[0mas_list\u001b[0m\u001b[1;33m(\u001b[0m\u001b[1;33m)\u001b[0m \u001b[1;33m==\u001b[0m \u001b[1;33m[\u001b[0m\u001b[1;32mNone\u001b[0m\u001b[1;33m,\u001b[0m \u001b[1;36m4\u001b[0m\u001b[1;33m,\u001b[0m \u001b[1;36m4\u001b[0m\u001b[1;33m,\u001b[0m \u001b[1;36m10\u001b[0m\u001b[1;33m]\u001b[0m\u001b[1;33m,\u001b[0m\u001b[0;31m\\\u001b[0m\u001b[1;33m\u001b[0m\u001b[0m\n",
      "\u001b[1;32m<ipython-input-11-3d923205e6ff>\u001b[0m in \u001b[0;36mconv2d_maxpool\u001b[1;34m(x_tensor, conv_num_outputs, conv_ksize, conv_strides, pool_ksize, pool_strides)\u001b[0m\n\u001b[0;32m     21\u001b[0m \u001b[1;33m\u001b[0m\u001b[0m\n\u001b[0;32m     22\u001b[0m     \u001b[1;31m#applying the convolution\u001b[0m\u001b[1;33m\u001b[0m\u001b[1;33m\u001b[0m\u001b[0m\n\u001b[1;32m---> 23\u001b[1;33m     \u001b[0mconvo\u001b[0m \u001b[1;33m=\u001b[0m \u001b[0mtf\u001b[0m\u001b[1;33m.\u001b[0m\u001b[0mnn\u001b[0m\u001b[1;33m.\u001b[0m\u001b[0mconv2d\u001b[0m\u001b[1;33m(\u001b[0m\u001b[0mx_tensor\u001b[0m\u001b[1;33m,\u001b[0m \u001b[0mweight\u001b[0m\u001b[1;33m,\u001b[0m \u001b[0mconv_strides\u001b[0m\u001b[1;33m,\u001b[0m \u001b[0mpadding\u001b[0m\u001b[1;33m=\u001b[0m\u001b[1;34m\"SAME\"\u001b[0m\u001b[1;33m)\u001b[0m\u001b[1;33m\u001b[0m\u001b[0m\n\u001b[0m\u001b[0;32m     24\u001b[0m \u001b[1;33m\u001b[0m\u001b[0m\n\u001b[0;32m     25\u001b[0m     \u001b[1;31m#adding the bias\u001b[0m\u001b[1;33m\u001b[0m\u001b[1;33m\u001b[0m\u001b[0m\n",
      "\u001b[1;32m~\\Anaconda3\\lib\\site-packages\\tensorflow\\python\\ops\\gen_nn_ops.py\u001b[0m in \u001b[0;36mconv2d\u001b[1;34m(input, filter, strides, padding, use_cudnn_on_gpu, data_format, dilations, name)\u001b[0m\n\u001b[0;32m    953\u001b[0m         \u001b[1;34m\"Conv2D\"\u001b[0m\u001b[1;33m,\u001b[0m \u001b[0minput\u001b[0m\u001b[1;33m=\u001b[0m\u001b[0minput\u001b[0m\u001b[1;33m,\u001b[0m \u001b[0mfilter\u001b[0m\u001b[1;33m=\u001b[0m\u001b[0mfilter\u001b[0m\u001b[1;33m,\u001b[0m \u001b[0mstrides\u001b[0m\u001b[1;33m=\u001b[0m\u001b[0mstrides\u001b[0m\u001b[1;33m,\u001b[0m\u001b[1;33m\u001b[0m\u001b[0m\n\u001b[0;32m    954\u001b[0m         \u001b[0mpadding\u001b[0m\u001b[1;33m=\u001b[0m\u001b[0mpadding\u001b[0m\u001b[1;33m,\u001b[0m \u001b[0muse_cudnn_on_gpu\u001b[0m\u001b[1;33m=\u001b[0m\u001b[0muse_cudnn_on_gpu\u001b[0m\u001b[1;33m,\u001b[0m\u001b[1;33m\u001b[0m\u001b[0m\n\u001b[1;32m--> 955\u001b[1;33m         data_format=data_format, dilations=dilations, name=name)\n\u001b[0m\u001b[0;32m    956\u001b[0m     \u001b[0m_result\u001b[0m \u001b[1;33m=\u001b[0m \u001b[0m_op\u001b[0m\u001b[1;33m.\u001b[0m\u001b[0moutputs\u001b[0m\u001b[1;33m[\u001b[0m\u001b[1;33m:\u001b[0m\u001b[1;33m]\u001b[0m\u001b[1;33m\u001b[0m\u001b[0m\n\u001b[0;32m    957\u001b[0m     \u001b[0m_inputs_flat\u001b[0m \u001b[1;33m=\u001b[0m \u001b[0m_op\u001b[0m\u001b[1;33m.\u001b[0m\u001b[0minputs\u001b[0m\u001b[1;33m\u001b[0m\u001b[0m\n",
      "\u001b[1;32m~\\Anaconda3\\lib\\site-packages\\tensorflow\\python\\framework\\op_def_library.py\u001b[0m in \u001b[0;36m_apply_op_helper\u001b[1;34m(self, op_type_name, name, **keywords)\u001b[0m\n\u001b[0;32m    785\u001b[0m         op = g.create_op(op_type_name, inputs, output_types, name=scope,\n\u001b[0;32m    786\u001b[0m                          \u001b[0minput_types\u001b[0m\u001b[1;33m=\u001b[0m\u001b[0minput_types\u001b[0m\u001b[1;33m,\u001b[0m \u001b[0mattrs\u001b[0m\u001b[1;33m=\u001b[0m\u001b[0mattr_protos\u001b[0m\u001b[1;33m,\u001b[0m\u001b[1;33m\u001b[0m\u001b[0m\n\u001b[1;32m--> 787\u001b[1;33m                          op_def=op_def)\n\u001b[0m\u001b[0;32m    788\u001b[0m       \u001b[1;32mreturn\u001b[0m \u001b[0moutput_structure\u001b[0m\u001b[1;33m,\u001b[0m \u001b[0mop_def\u001b[0m\u001b[1;33m.\u001b[0m\u001b[0mis_stateful\u001b[0m\u001b[1;33m,\u001b[0m \u001b[0mop\u001b[0m\u001b[1;33m\u001b[0m\u001b[0m\n\u001b[0;32m    789\u001b[0m \u001b[1;33m\u001b[0m\u001b[0m\n",
      "\u001b[1;32m~\\Anaconda3\\lib\\site-packages\\tensorflow\\python\\framework\\ops.py\u001b[0m in \u001b[0;36mcreate_op\u001b[1;34m(self, op_type, inputs, dtypes, input_types, name, attrs, op_def, compute_shapes, compute_device)\u001b[0m\n\u001b[0;32m   3412\u001b[0m           \u001b[0minput_types\u001b[0m\u001b[1;33m=\u001b[0m\u001b[0minput_types\u001b[0m\u001b[1;33m,\u001b[0m\u001b[1;33m\u001b[0m\u001b[0m\n\u001b[0;32m   3413\u001b[0m           \u001b[0moriginal_op\u001b[0m\u001b[1;33m=\u001b[0m\u001b[0mself\u001b[0m\u001b[1;33m.\u001b[0m\u001b[0m_default_original_op\u001b[0m\u001b[1;33m,\u001b[0m\u001b[1;33m\u001b[0m\u001b[0m\n\u001b[1;32m-> 3414\u001b[1;33m           op_def=op_def)\n\u001b[0m\u001b[0;32m   3415\u001b[0m \u001b[1;33m\u001b[0m\u001b[0m\n\u001b[0;32m   3416\u001b[0m       \u001b[1;31m# Note: shapes are lazily computed with the C API enabled.\u001b[0m\u001b[1;33m\u001b[0m\u001b[1;33m\u001b[0m\u001b[0m\n",
      "\u001b[1;32m~\\Anaconda3\\lib\\site-packages\\tensorflow\\python\\framework\\ops.py\u001b[0m in \u001b[0;36m__init__\u001b[1;34m(self, node_def, g, inputs, output_types, control_inputs, input_types, original_op, op_def)\u001b[0m\n\u001b[0;32m   1754\u001b[0m           op_def, inputs, node_def.attr)\n\u001b[0;32m   1755\u001b[0m       self._c_op = _create_c_op(self._graph, node_def, grouped_inputs,\n\u001b[1;32m-> 1756\u001b[1;33m                                 control_input_ops)\n\u001b[0m\u001b[0;32m   1757\u001b[0m     \u001b[1;32melse\u001b[0m\u001b[1;33m:\u001b[0m\u001b[1;33m\u001b[0m\u001b[0m\n\u001b[0;32m   1758\u001b[0m       \u001b[0mself\u001b[0m\u001b[1;33m.\u001b[0m\u001b[0m_c_op\u001b[0m \u001b[1;33m=\u001b[0m \u001b[1;32mNone\u001b[0m\u001b[1;33m\u001b[0m\u001b[0m\n",
      "\u001b[1;32m~\\Anaconda3\\lib\\site-packages\\tensorflow\\python\\framework\\ops.py\u001b[0m in \u001b[0;36m_create_c_op\u001b[1;34m(graph, node_def, inputs, control_inputs)\u001b[0m\n\u001b[0;32m   1590\u001b[0m   \u001b[1;32mexcept\u001b[0m \u001b[0merrors\u001b[0m\u001b[1;33m.\u001b[0m\u001b[0mInvalidArgumentError\u001b[0m \u001b[1;32mas\u001b[0m \u001b[0me\u001b[0m\u001b[1;33m:\u001b[0m\u001b[1;33m\u001b[0m\u001b[0m\n\u001b[0;32m   1591\u001b[0m     \u001b[1;31m# Convert to ValueError for backwards compatibility.\u001b[0m\u001b[1;33m\u001b[0m\u001b[1;33m\u001b[0m\u001b[0m\n\u001b[1;32m-> 1592\u001b[1;33m     \u001b[1;32mraise\u001b[0m \u001b[0mValueError\u001b[0m\u001b[1;33m(\u001b[0m\u001b[0mstr\u001b[0m\u001b[1;33m(\u001b[0m\u001b[0me\u001b[0m\u001b[1;33m)\u001b[0m\u001b[1;33m)\u001b[0m\u001b[1;33m\u001b[0m\u001b[0m\n\u001b[0m\u001b[0;32m   1593\u001b[0m \u001b[1;33m\u001b[0m\u001b[0m\n\u001b[0;32m   1594\u001b[0m   \u001b[1;32mreturn\u001b[0m \u001b[0mc_op\u001b[0m\u001b[1;33m\u001b[0m\u001b[0m\n",
      "\u001b[1;31mValueError\u001b[0m: Conv2D on data format NHWC requires the stride attribute to contain 4 values, but got: 2 for 'Conv2D' (op: 'Conv2D') with input shapes: [?,32,32,5], [2,2,5,10]."
     ]
    }
   ],
   "source": [
    "def conv2d_maxpool(x_tensor, conv_num_outputs, conv_ksize, conv_strides, pool_ksize, pool_strides):\n",
    "    \"\"\"\n",
    "    Apply convolution then max pooling to x_tensor\n",
    "    :param x_tensor: TensorFlow Tensor\n",
    "    :param conv_num_outputs: Number of outputs for the convolutional layer\n",
    "    :param conv_ksize: kernal size 2-D Tuple for the convolutional layer\n",
    "    :param conv_strides: Stride 2-D Tuple for convolution\n",
    "    :param pool_ksize: kernal size 2-D Tuple for pool\n",
    "    :param pool_strides: Stride 2-D Tuple for pool\n",
    "    : return: A tensor that represents convolution and max pooling of x_tensor\n",
    "    \"\"\"\n",
    "    # TODO: Implement Function\n",
    "    #processing the input\n",
    "    filsize = list(conv_ksize)\n",
    "    filsize.extend([x_tensor.shape[3].value,conv_num_outputs])\n",
    "    w_shape = tuple(filsize)\n",
    "        \n",
    "    #creating the weight and bias terms\n",
    "    weight = tf.Variable(tf.truncated_normal(w_shape, stddev=0.1))\n",
    "    bias = tf.Variable(tf.zeros(conv_num_outputs))\n",
    "        \n",
    "    #applying the convolution\n",
    "    convo = tf.nn.conv2d(x_tensor, weight, [1, conv_strides, 1], padding=\"SAME\")\n",
    "    \n",
    "    #adding the bias\n",
    "    convo = tf.nn.bias_add(convo, bias)\n",
    "    \n",
    "    #activation\n",
    "    convo = tf.nn.relu(convo)\n",
    "    \n",
    "    #max pooling\n",
    "    convo = tf.nn.max_pool(convo, ksize=[1, pool_ksize, 1], strides=[1, pool_strides, 1], padding=\"SAME\")\n",
    "    return convo\n",
    "\n",
    "\n",
    "\"\"\"\n",
    "DON'T MODIFY ANYTHING IN THIS CELL THAT IS BELOW THIS LINE\n",
    "\"\"\"\n",
    "tests.test_con_pool(conv2d_maxpool)"
   ]
  },
  {
   "cell_type": "markdown",
   "metadata": {},
   "source": [
    "### Flatten Layer\n",
    "Implement the `flatten` function to change the dimension of `x_tensor` from a 4-D tensor to a 2-D tensor.  The output should be the shape (*Batch Size*, *Flattened Image Size*). Shortcut option: you can use classes from the [TensorFlow Layers](https://www.tensorflow.org/api_docs/python/tf/layers) or [TensorFlow Layers (contrib)](https://www.tensorflow.org/api_guides/python/contrib.layers) packages for this layer. For more of a challenge, only use other TensorFlow packages."
   ]
  },
  {
   "cell_type": "code",
   "execution_count": 4,
   "metadata": {},
   "outputs": [
    {
     "name": "stdout",
     "output_type": "stream",
     "text": [
      "Tests Passed\n"
     ]
    }
   ],
   "source": [
    "def flatten(x_tensor):\n",
    "    \"\"\"\n",
    "    Flatten x_tensor to (Batch Size, Flattened Image Size)\n",
    "    : x_tensor: A tensor of size (Batch Size, ...), where ... are the image dimensions.\n",
    "    : return: A tensor of size (Batch Size, Flattened Image Size).\n",
    "    \"\"\"\n",
    "    # TODO: Implement Function\n",
    "        \n",
    "    return tf.contrib.layers.flatten(x_tensor)\n",
    "\n",
    "\n",
    "\"\"\"\n",
    "DON'T MODIFY ANYTHING IN THIS CELL THAT IS BELOW THIS LINE\n",
    "\"\"\"\n",
    "tests.test_flatten(flatten)"
   ]
  },
  {
   "cell_type": "markdown",
   "metadata": {},
   "source": [
    "### Fully-Connected Layer\n",
    "Implement the `fully_conn` function to apply a fully connected layer to `x_tensor` with the shape (*Batch Size*, *num_outputs*). Shortcut option: you can use classes from the [TensorFlow Layers](https://www.tensorflow.org/api_docs/python/tf/layers) or [TensorFlow Layers (contrib)](https://www.tensorflow.org/api_guides/python/contrib.layers) packages for this layer. For more of a challenge, only use other TensorFlow packages."
   ]
  },
  {
   "cell_type": "code",
   "execution_count": 5,
   "metadata": {},
   "outputs": [
    {
     "name": "stdout",
     "output_type": "stream",
     "text": [
      "Tests Passed\n"
     ]
    }
   ],
   "source": [
    "def fully_conn(x_tensor, num_outputs):\n",
    "    \"\"\"\n",
    "    Apply a fully connected layer to x_tensor using weight and bias\n",
    "    : x_tensor: A 2-D tensor where the first dimension is batch size.\n",
    "    : num_outputs: The number of output that the new tensor should be.\n",
    "    : return: A 2-D tensor where the second dimension is num_outputs.\n",
    "    \"\"\"\n",
    "    # TODO: Implement Function\n",
    "    return tf.contrib.layers.fully_connected(x_tensor, num_outputs=num_outputs, activation_fn=tf.nn.relu)\n",
    "\n",
    "\n",
    "\"\"\"\n",
    "DON'T MODIFY ANYTHING IN THIS CELL THAT IS BELOW THIS LINE\n",
    "\"\"\"\n",
    "tests.test_fully_conn(fully_conn)"
   ]
  },
  {
   "cell_type": "markdown",
   "metadata": {},
   "source": [
    "### Output Layer\n",
    "Implement the `output` function to apply a fully connected layer to `x_tensor` with the shape (*Batch Size*, *num_outputs*). Shortcut option: you can use classes from the [TensorFlow Layers](https://www.tensorflow.org/api_docs/python/tf/layers) or [TensorFlow Layers (contrib)](https://www.tensorflow.org/api_guides/python/contrib.layers) packages for this layer. For more of a challenge, only use other TensorFlow packages.\n",
    "\n",
    "**Note:** Activation, softmax, or cross entropy should **not** be applied to this."
   ]
  },
  {
   "cell_type": "code",
   "execution_count": 6,
   "metadata": {},
   "outputs": [
    {
     "name": "stdout",
     "output_type": "stream",
     "text": [
      "Tests Passed\n"
     ]
    }
   ],
   "source": [
    "def output(x_tensor, num_outputs):\n",
    "    \"\"\"\n",
    "    Apply a output layer to x_tensor using weight and bias\n",
    "    : x_tensor: A 2-D tensor where the first dimension is batch size.\n",
    "    : num_outputs: The number of output that the new tensor should be.\n",
    "    : return: A 2-D tensor where the second dimension is num_outputs.\n",
    "    \"\"\"\n",
    "    # TODO: Implement Function\n",
    "    return tf.contrib.layers.fully_connected(x_tensor, num_outputs=num_outputs, activation_fn=None)\n",
    "\n",
    "\n",
    "\"\"\"\n",
    "DON'T MODIFY ANYTHING IN THIS CELL THAT IS BELOW THIS LINE\n",
    "\"\"\"\n",
    "tests.test_output(output)"
   ]
  },
  {
   "cell_type": "markdown",
   "metadata": {},
   "source": [
    "### Create Convolutional Model\n",
    "Implement the function `conv_net` to create a convolutional neural network model. The function takes in a batch of images, `x`, and outputs logits.  Use the layers you created above to create this model:\n",
    "\n",
    "* Apply 1, 2, or 3 Convolution and Max Pool layers\n",
    "* Apply a Flatten Layer\n",
    "* Apply 1, 2, or 3 Fully Connected Layers\n",
    "* Apply an Output Layer\n",
    "* Return the output\n",
    "* Apply [TensorFlow's Dropout](https://www.tensorflow.org/api_docs/python/tf/nn/dropout) to one or more layers in the model using `keep_prob`. "
   ]
  },
  {
   "cell_type": "code",
   "execution_count": 7,
   "metadata": {},
   "outputs": [
    {
     "name": "stdout",
     "output_type": "stream",
     "text": [
      "Neural Network Built!\n"
     ]
    }
   ],
   "source": [
    "def conv_net(x, keep_prob):\n",
    "    \"\"\"\n",
    "    Create a convolutional neural network model\n",
    "    : x: Placeholder tensor that holds image data.\n",
    "    : keep_prob: Placeholder tensor that hold dropout keep probability.\n",
    "    : return: Tensor that represents logits\n",
    "    \"\"\"\n",
    "    # TODO: Apply 1, 2, or 3 Convolution and Max Pool layers\n",
    "    #    Play around with different number of outputs, kernel size and stride\n",
    "    # Function Definition from Above:\n",
    "    #    conv2d_maxpool(x_tensor, conv_num_outputs, conv_ksize, conv_strides, pool_ksize, pool_strides)\n",
    "    \n",
    "    convo = conv2d_maxpool(x, 15, (5, 5), (1,1), (2, 2), (2,2))\n",
    "    convo = conv2d_maxpool(convo, 30, (2, 2), (2,2), (3, 3), (1, 1))\n",
    "    # TODO: Apply a Flatten Layer\n",
    "    # Function Definition from Above:\n",
    "    #   flatten(x_tensor)\n",
    "    convo = flatten(convo)\n",
    "    \n",
    "    # TODO: Apply 1, 2, or 3 Fully Connected Layers\n",
    "    #    Play around with different number of outputs\n",
    "    # Function Definition from Above:\n",
    "    #   fully_conn(x_tensor, num_outputs)\n",
    "    convo = fully_conn(convo, 250)\n",
    "    convo = tf.nn.dropout(convo, keep_prob)\n",
    "    convo = fully_conn(convo, 80)\n",
    "    #adding dropout\n",
    "    convo = tf.nn.dropout(convo, keep_prob)\n",
    "    \n",
    "    # TODO: Apply an Output Layer\n",
    "    #    Set this to the number of classes\n",
    "    # Function Definition from Above:\n",
    "    #   output(x_tensor, num_outputs)\n",
    "    convo = output(convo, 10)\n",
    "    \n",
    "    # TODO: return output\n",
    "    return(convo)\n",
    "\n",
    "\n",
    "\"\"\"\n",
    "DON'T MODIFY ANYTHING IN THIS CELL THAT IS BELOW THIS LINE\n",
    "\"\"\"\n",
    "\n",
    "##############################\n",
    "## Build the Neural Network ##\n",
    "##############################\n",
    "\n",
    "# Remove previous weights, bias, inputs, etc..\n",
    "tf.reset_default_graph()\n",
    "\n",
    "# Inputs\n",
    "x = neural_net_image_input((32, 32, 3))\n",
    "y = neural_net_label_input(10)\n",
    "keep_prob = neural_net_keep_prob_input()\n",
    "\n",
    "# Model\n",
    "logits = conv_net(x, keep_prob)\n",
    "\n",
    "# Name logits Tensor, so that is can be loaded from disk after training\n",
    "logits = tf.identity(logits, name='logits')\n",
    "\n",
    "# Loss and Optimizer\n",
    "cost = tf.reduce_mean(tf.nn.softmax_cross_entropy_with_logits(logits=logits, labels=y))\n",
    "optimizer = tf.train.AdamOptimizer().minimize(cost)\n",
    "\n",
    "# Accuracy\n",
    "correct_pred = tf.equal(tf.argmax(logits, 1), tf.argmax(y, 1))\n",
    "accuracy = tf.reduce_mean(tf.cast(correct_pred, tf.float32), name='accuracy')\n",
    "\n",
    "tests.test_conv_net(conv_net)"
   ]
  },
  {
   "cell_type": "markdown",
   "metadata": {},
   "source": [
    "## Train the Neural Network\n",
    "### Single Optimization\n",
    "Implement the function `train_neural_network` to do a single optimization.  The optimization should use `optimizer` to optimize in `session` with a `feed_dict` of the following:\n",
    "* `x` for image input\n",
    "* `y` for labels\n",
    "* `keep_prob` for keep probability for dropout\n",
    "\n",
    "This function will be called for each batch, so `tf.global_variables_initializer()` has already been called.\n",
    "\n",
    "Note: Nothing needs to be returned. This function is only optimizing the neural network."
   ]
  },
  {
   "cell_type": "code",
   "execution_count": 8,
   "metadata": {},
   "outputs": [
    {
     "name": "stdout",
     "output_type": "stream",
     "text": [
      "Tests Passed\n"
     ]
    }
   ],
   "source": [
    "def train_neural_network(session, optimizer, keep_probability, feature_batch, label_batch):\n",
    "    \"\"\"\n",
    "    Optimize the session on a batch of images and labels\n",
    "    : session: Current TensorFlow session\n",
    "    : optimizer: TensorFlow optimizer function\n",
    "    : keep_probability: keep probability\n",
    "    : feature_batch: Batch of Numpy image data\n",
    "    : label_batch: Batch of Numpy label data\n",
    "    \"\"\"\n",
    "    # TODO: Implement Function\n",
    "    session.run(optimizer, feed_dict={\n",
    "                x: feature_batch,\n",
    "                y: label_batch,\n",
    "                keep_prob: keep_probability})\n",
    "\n",
    "\n",
    "\"\"\"\n",
    "DON'T MODIFY ANYTHING IN THIS CELL THAT IS BELOW THIS LINE\n",
    "\"\"\"\n",
    "tests.test_train_nn(train_neural_network)"
   ]
  },
  {
   "cell_type": "markdown",
   "metadata": {},
   "source": [
    "### Show Stats\n",
    "Implement the function `print_stats` to print loss and validation accuracy.  Use the global variables `valid_features` and `valid_labels` to calculate validation accuracy.  Use a keep probability of `1.0` to calculate the loss and validation accuracy."
   ]
  },
  {
   "cell_type": "code",
   "execution_count": 9,
   "metadata": {
    "collapsed": true
   },
   "outputs": [],
   "source": [
    "def print_stats(session, feature_batch, label_batch, cost, accuracy):\n",
    "    \"\"\"\n",
    "    Print information about loss and validation accuracy\n",
    "    : session: Current TensorFlow session\n",
    "    : feature_batch: Batch of Numpy image data\n",
    "    : label_batch: Batch of Numpy label data\n",
    "    : cost: TensorFlow cost function\n",
    "    : accuracy: TensorFlow accuracy function\n",
    "    \"\"\"\n",
    "    # TODO: Implement Function\n",
    "    loss = session.run(cost, feed_dict={\n",
    "                x: feature_batch,\n",
    "                y: label_batch,\n",
    "                keep_prob: 1.})\n",
    "    valid_acc = session.run(accuracy, feed_dict={\n",
    "                x: valid_features,\n",
    "                y: valid_labels,\n",
    "                keep_prob: 1.})\n",
    "\n",
    "    print('Loss: {:>10.4f} Validation Accuracy: {:.6f}'.format(\n",
    "                loss,\n",
    "                valid_acc))"
   ]
  },
  {
   "cell_type": "markdown",
   "metadata": {},
   "source": [
    "### Hyperparameters\n",
    "Tune the following parameters:\n",
    "* Set `epochs` to the number of iterations until the network stops learning or start overfitting\n",
    "* Set `batch_size` to the highest number that your machine has memory for.  Most people set them to common sizes of memory:\n",
    " * 64\n",
    " * 128\n",
    " * 256\n",
    " * ...\n",
    "* Set `keep_probability` to the probability of keeping a node using dropout"
   ]
  },
  {
   "cell_type": "code",
   "execution_count": 13,
   "metadata": {
    "collapsed": true
   },
   "outputs": [],
   "source": [
    "# TODO: Tune Parameters\n",
    "epochs = 40\n",
    "batch_size = 512\n",
    "keep_probability = 0.35"
   ]
  },
  {
   "cell_type": "markdown",
   "metadata": {},
   "source": [
    "### Train on a Single CIFAR-10 Batch\n",
    "Instead of training the neural network on all the CIFAR-10 batches of data, let's use a single batch. This should save time while you iterate on the model to get a better accuracy.  Once the final validation accuracy is 50% or greater, run the model on all the data in the next section."
   ]
  },
  {
   "cell_type": "code",
   "execution_count": 14,
   "metadata": {},
   "outputs": [
    {
     "name": "stdout",
     "output_type": "stream",
     "text": [
      "Checking the Training on a Single Batch...\n",
      "Epoch  1, CIFAR-10 Batch 1:  Loss:     2.2909 Validation Accuracy: 0.142400\n",
      "Epoch  2, CIFAR-10 Batch 1:  Loss:     2.2152 Validation Accuracy: 0.223200\n",
      "Epoch  3, CIFAR-10 Batch 1:  Loss:     2.1141 Validation Accuracy: 0.251800\n",
      "Epoch  4, CIFAR-10 Batch 1:  Loss:     2.0153 Validation Accuracy: 0.298200\n",
      "Epoch  5, CIFAR-10 Batch 1:  Loss:     1.9345 Validation Accuracy: 0.355200\n",
      "Epoch  6, CIFAR-10 Batch 1:  Loss:     1.8551 Validation Accuracy: 0.369200\n",
      "Epoch  7, CIFAR-10 Batch 1:  Loss:     1.8107 Validation Accuracy: 0.395600\n",
      "Epoch  8, CIFAR-10 Batch 1:  Loss:     1.7377 Validation Accuracy: 0.412800\n",
      "Epoch  9, CIFAR-10 Batch 1:  Loss:     1.7053 Validation Accuracy: 0.407600\n",
      "Epoch 10, CIFAR-10 Batch 1:  Loss:     1.6490 Validation Accuracy: 0.423600\n",
      "Epoch 11, CIFAR-10 Batch 1:  Loss:     1.6124 Validation Accuracy: 0.431400\n",
      "Epoch 12, CIFAR-10 Batch 1:  Loss:     1.5927 Validation Accuracy: 0.425600\n",
      "Epoch 13, CIFAR-10 Batch 1:  Loss:     1.5316 Validation Accuracy: 0.444000\n",
      "Epoch 14, CIFAR-10 Batch 1:  Loss:     1.5337 Validation Accuracy: 0.444600\n",
      "Epoch 15, CIFAR-10 Batch 1:  Loss:     1.4770 Validation Accuracy: 0.453000\n",
      "Epoch 16, CIFAR-10 Batch 1:  Loss:     1.4382 Validation Accuracy: 0.460000\n",
      "Epoch 17, CIFAR-10 Batch 1:  Loss:     1.4549 Validation Accuracy: 0.459400\n",
      "Epoch 18, CIFAR-10 Batch 1:  Loss:     1.4237 Validation Accuracy: 0.459200\n",
      "Epoch 19, CIFAR-10 Batch 1:  Loss:     1.4025 Validation Accuracy: 0.466800\n",
      "Epoch 20, CIFAR-10 Batch 1:  Loss:     1.4316 Validation Accuracy: 0.447400\n",
      "Epoch 21, CIFAR-10 Batch 1:  Loss:     1.4133 Validation Accuracy: 0.461000\n",
      "Epoch 22, CIFAR-10 Batch 1:  Loss:     1.3572 Validation Accuracy: 0.486400\n",
      "Epoch 23, CIFAR-10 Batch 1:  Loss:     1.3743 Validation Accuracy: 0.491200\n",
      "Epoch 24, CIFAR-10 Batch 1:  Loss:     1.3021 Validation Accuracy: 0.500200\n",
      "Epoch 25, CIFAR-10 Batch 1:  Loss:     1.2792 Validation Accuracy: 0.493800\n",
      "Epoch 26, CIFAR-10 Batch 1:  Loss:     1.2788 Validation Accuracy: 0.484600\n",
      "Epoch 27, CIFAR-10 Batch 1:  Loss:     1.2539 Validation Accuracy: 0.501200\n",
      "Epoch 28, CIFAR-10 Batch 1:  Loss:     1.2335 Validation Accuracy: 0.505000\n",
      "Epoch 29, CIFAR-10 Batch 1:  Loss:     1.2364 Validation Accuracy: 0.508400\n",
      "Epoch 30, CIFAR-10 Batch 1:  Loss:     1.2227 Validation Accuracy: 0.504600\n",
      "Epoch 31, CIFAR-10 Batch 1:  Loss:     1.1849 Validation Accuracy: 0.515200\n",
      "Epoch 32, CIFAR-10 Batch 1:  Loss:     1.1954 Validation Accuracy: 0.499200\n",
      "Epoch 33, CIFAR-10 Batch 1:  Loss:     1.1738 Validation Accuracy: 0.500000\n",
      "Epoch 34, CIFAR-10 Batch 1:  Loss:     1.1554 Validation Accuracy: 0.508200\n",
      "Epoch 35, CIFAR-10 Batch 1:  Loss:     1.1414 Validation Accuracy: 0.512400\n",
      "Epoch 36, CIFAR-10 Batch 1:  Loss:     1.1399 Validation Accuracy: 0.514000\n",
      "Epoch 37, CIFAR-10 Batch 1:  Loss:     1.1246 Validation Accuracy: 0.518800\n",
      "Epoch 38, CIFAR-10 Batch 1:  Loss:     1.0941 Validation Accuracy: 0.527800\n",
      "Epoch 39, CIFAR-10 Batch 1:  Loss:     1.1057 Validation Accuracy: 0.525800\n",
      "Epoch 40, CIFAR-10 Batch 1:  Loss:     1.1181 Validation Accuracy: 0.507200\n"
     ]
    }
   ],
   "source": [
    "\"\"\"\n",
    "DON'T MODIFY ANYTHING IN THIS CELL\n",
    "\"\"\"\n",
    "print('Checking the Training on a Single Batch...')\n",
    "with tf.Session() as sess:\n",
    "    # Initializing the variables\n",
    "    sess.run(tf.global_variables_initializer())\n",
    "    \n",
    "    # Training cycle\n",
    "    for epoch in range(epochs):\n",
    "        batch_i = 1\n",
    "        for batch_features, batch_labels in helper.load_preprocess_training_batch(batch_i, batch_size):\n",
    "            train_neural_network(sess, optimizer, keep_probability, batch_features, batch_labels)\n",
    "        print('Epoch {:>2}, CIFAR-10 Batch {}:  '.format(epoch + 1, batch_i), end='')\n",
    "        print_stats(sess, batch_features, batch_labels, cost, accuracy)"
   ]
  },
  {
   "cell_type": "markdown",
   "metadata": {},
   "source": [
    "### Fully Train the Model\n",
    "Now that you got a good accuracy with a single CIFAR-10 batch, try it with all five batches."
   ]
  },
  {
   "cell_type": "code",
   "execution_count": 15,
   "metadata": {
    "scrolled": false
   },
   "outputs": [
    {
     "name": "stdout",
     "output_type": "stream",
     "text": [
      "Training...\n",
      "Epoch  1, CIFAR-10 Batch 1:  Loss:     2.2809 Validation Accuracy: 0.209000\n",
      "Epoch  1, CIFAR-10 Batch 2:  Loss:     2.1998 Validation Accuracy: 0.218400\n",
      "Epoch  1, CIFAR-10 Batch 3:  Loss:     2.1076 Validation Accuracy: 0.264000\n",
      "Epoch  1, CIFAR-10 Batch 4:  Loss:     1.9653 Validation Accuracy: 0.313600\n",
      "Epoch  1, CIFAR-10 Batch 5:  Loss:     1.8966 Validation Accuracy: 0.322400\n",
      "Epoch  2, CIFAR-10 Batch 1:  Loss:     1.8712 Validation Accuracy: 0.357400\n",
      "Epoch  2, CIFAR-10 Batch 2:  Loss:     1.7818 Validation Accuracy: 0.387200\n",
      "Epoch  2, CIFAR-10 Batch 3:  Loss:     1.7334 Validation Accuracy: 0.399600\n",
      "Epoch  2, CIFAR-10 Batch 4:  Loss:     1.6432 Validation Accuracy: 0.414400\n",
      "Epoch  2, CIFAR-10 Batch 5:  Loss:     1.6604 Validation Accuracy: 0.414200\n",
      "Epoch  3, CIFAR-10 Batch 1:  Loss:     1.6899 Validation Accuracy: 0.429800\n",
      "Epoch  3, CIFAR-10 Batch 2:  Loss:     1.6447 Validation Accuracy: 0.445400\n",
      "Epoch  3, CIFAR-10 Batch 3:  Loss:     1.5066 Validation Accuracy: 0.438000\n",
      "Epoch  3, CIFAR-10 Batch 4:  Loss:     1.5016 Validation Accuracy: 0.456200\n",
      "Epoch  3, CIFAR-10 Batch 5:  Loss:     1.5267 Validation Accuracy: 0.451200\n",
      "Epoch  4, CIFAR-10 Batch 1:  Loss:     1.5800 Validation Accuracy: 0.458800\n",
      "Epoch  4, CIFAR-10 Batch 2:  Loss:     1.5474 Validation Accuracy: 0.459000\n",
      "Epoch  4, CIFAR-10 Batch 3:  Loss:     1.3644 Validation Accuracy: 0.486600\n",
      "Epoch  4, CIFAR-10 Batch 4:  Loss:     1.4028 Validation Accuracy: 0.478200\n",
      "Epoch  4, CIFAR-10 Batch 5:  Loss:     1.4235 Validation Accuracy: 0.483800\n",
      "Epoch  5, CIFAR-10 Batch 1:  Loss:     1.5098 Validation Accuracy: 0.481200\n",
      "Epoch  5, CIFAR-10 Batch 2:  Loss:     1.4549 Validation Accuracy: 0.501000\n",
      "Epoch  5, CIFAR-10 Batch 3:  Loss:     1.3476 Validation Accuracy: 0.489400\n",
      "Epoch  5, CIFAR-10 Batch 4:  Loss:     1.3346 Validation Accuracy: 0.493000\n",
      "Epoch  5, CIFAR-10 Batch 5:  Loss:     1.3706 Validation Accuracy: 0.500200\n",
      "Epoch  6, CIFAR-10 Batch 1:  Loss:     1.4554 Validation Accuracy: 0.498600\n",
      "Epoch  6, CIFAR-10 Batch 2:  Loss:     1.4359 Validation Accuracy: 0.507200\n",
      "Epoch  6, CIFAR-10 Batch 3:  Loss:     1.2467 Validation Accuracy: 0.517200\n",
      "Epoch  6, CIFAR-10 Batch 4:  Loss:     1.2885 Validation Accuracy: 0.515600\n",
      "Epoch  6, CIFAR-10 Batch 5:  Loss:     1.3430 Validation Accuracy: 0.512000\n",
      "Epoch  7, CIFAR-10 Batch 1:  Loss:     1.4109 Validation Accuracy: 0.517800\n",
      "Epoch  7, CIFAR-10 Batch 2:  Loss:     1.3816 Validation Accuracy: 0.511400\n",
      "Epoch  7, CIFAR-10 Batch 3:  Loss:     1.1994 Validation Accuracy: 0.519800\n",
      "Epoch  7, CIFAR-10 Batch 4:  Loss:     1.2417 Validation Accuracy: 0.521600\n",
      "Epoch  7, CIFAR-10 Batch 5:  Loss:     1.2974 Validation Accuracy: 0.526600\n",
      "Epoch  8, CIFAR-10 Batch 1:  Loss:     1.3770 Validation Accuracy: 0.523200\n",
      "Epoch  8, CIFAR-10 Batch 2:  Loss:     1.3285 Validation Accuracy: 0.524400\n",
      "Epoch  8, CIFAR-10 Batch 3:  Loss:     1.1655 Validation Accuracy: 0.535000\n",
      "Epoch  8, CIFAR-10 Batch 4:  Loss:     1.2203 Validation Accuracy: 0.526200\n",
      "Epoch  8, CIFAR-10 Batch 5:  Loss:     1.2630 Validation Accuracy: 0.528200\n",
      "Epoch  9, CIFAR-10 Batch 1:  Loss:     1.3418 Validation Accuracy: 0.534800\n",
      "Epoch  9, CIFAR-10 Batch 2:  Loss:     1.2839 Validation Accuracy: 0.535600\n",
      "Epoch  9, CIFAR-10 Batch 3:  Loss:     1.1395 Validation Accuracy: 0.529800\n",
      "Epoch  9, CIFAR-10 Batch 4:  Loss:     1.1803 Validation Accuracy: 0.529600\n",
      "Epoch  9, CIFAR-10 Batch 5:  Loss:     1.2420 Validation Accuracy: 0.536800\n",
      "Epoch 10, CIFAR-10 Batch 1:  Loss:     1.3263 Validation Accuracy: 0.545400\n",
      "Epoch 10, CIFAR-10 Batch 2:  Loss:     1.2683 Validation Accuracy: 0.539200\n",
      "Epoch 10, CIFAR-10 Batch 3:  Loss:     1.0964 Validation Accuracy: 0.544200\n",
      "Epoch 10, CIFAR-10 Batch 4:  Loss:     1.1567 Validation Accuracy: 0.549600\n",
      "Epoch 10, CIFAR-10 Batch 5:  Loss:     1.2193 Validation Accuracy: 0.540600\n",
      "Epoch 11, CIFAR-10 Batch 1:  Loss:     1.3235 Validation Accuracy: 0.537800\n",
      "Epoch 11, CIFAR-10 Batch 2:  Loss:     1.2472 Validation Accuracy: 0.540600\n",
      "Epoch 11, CIFAR-10 Batch 3:  Loss:     1.0811 Validation Accuracy: 0.540800\n",
      "Epoch 11, CIFAR-10 Batch 4:  Loss:     1.1348 Validation Accuracy: 0.550200\n",
      "Epoch 11, CIFAR-10 Batch 5:  Loss:     1.1849 Validation Accuracy: 0.545800\n",
      "Epoch 12, CIFAR-10 Batch 1:  Loss:     1.2732 Validation Accuracy: 0.545200\n",
      "Epoch 12, CIFAR-10 Batch 2:  Loss:     1.2154 Validation Accuracy: 0.542200\n",
      "Epoch 12, CIFAR-10 Batch 3:  Loss:     1.0456 Validation Accuracy: 0.555200\n",
      "Epoch 12, CIFAR-10 Batch 4:  Loss:     1.0960 Validation Accuracy: 0.554200\n",
      "Epoch 12, CIFAR-10 Batch 5:  Loss:     1.1673 Validation Accuracy: 0.545800\n",
      "Epoch 13, CIFAR-10 Batch 1:  Loss:     1.2621 Validation Accuracy: 0.552800\n",
      "Epoch 13, CIFAR-10 Batch 2:  Loss:     1.2024 Validation Accuracy: 0.549800\n",
      "Epoch 13, CIFAR-10 Batch 3:  Loss:     1.0286 Validation Accuracy: 0.556800\n",
      "Epoch 13, CIFAR-10 Batch 4:  Loss:     1.0923 Validation Accuracy: 0.563000\n",
      "Epoch 13, CIFAR-10 Batch 5:  Loss:     1.1225 Validation Accuracy: 0.556000\n",
      "Epoch 14, CIFAR-10 Batch 1:  Loss:     1.2338 Validation Accuracy: 0.550800\n",
      "Epoch 14, CIFAR-10 Batch 2:  Loss:     1.1944 Validation Accuracy: 0.549600\n",
      "Epoch 14, CIFAR-10 Batch 3:  Loss:     1.0440 Validation Accuracy: 0.552000\n",
      "Epoch 14, CIFAR-10 Batch 4:  Loss:     1.0671 Validation Accuracy: 0.555200\n",
      "Epoch 14, CIFAR-10 Batch 5:  Loss:     1.1367 Validation Accuracy: 0.544200\n",
      "Epoch 15, CIFAR-10 Batch 1:  Loss:     1.2318 Validation Accuracy: 0.563400\n",
      "Epoch 15, CIFAR-10 Batch 2:  Loss:     1.1410 Validation Accuracy: 0.557000\n",
      "Epoch 15, CIFAR-10 Batch 3:  Loss:     1.0359 Validation Accuracy: 0.552600\n",
      "Epoch 15, CIFAR-10 Batch 4:  Loss:     1.0863 Validation Accuracy: 0.553800\n",
      "Epoch 15, CIFAR-10 Batch 5:  Loss:     1.1141 Validation Accuracy: 0.560600\n",
      "Epoch 16, CIFAR-10 Batch 1:  Loss:     1.2032 Validation Accuracy: 0.562800\n",
      "Epoch 16, CIFAR-10 Batch 2:  Loss:     1.1277 Validation Accuracy: 0.553200\n",
      "Epoch 16, CIFAR-10 Batch 3:  Loss:     1.0299 Validation Accuracy: 0.562600\n",
      "Epoch 16, CIFAR-10 Batch 4:  Loss:     1.0589 Validation Accuracy: 0.566000\n",
      "Epoch 16, CIFAR-10 Batch 5:  Loss:     1.0770 Validation Accuracy: 0.576800\n",
      "Epoch 17, CIFAR-10 Batch 1:  Loss:     1.1831 Validation Accuracy: 0.574400\n",
      "Epoch 17, CIFAR-10 Batch 2:  Loss:     1.1042 Validation Accuracy: 0.562600\n",
      "Epoch 17, CIFAR-10 Batch 3:  Loss:     0.9637 Validation Accuracy: 0.567000\n",
      "Epoch 17, CIFAR-10 Batch 4:  Loss:     1.0589 Validation Accuracy: 0.564800\n",
      "Epoch 17, CIFAR-10 Batch 5:  Loss:     1.1035 Validation Accuracy: 0.563600\n",
      "Epoch 18, CIFAR-10 Batch 1:  Loss:     1.1513 Validation Accuracy: 0.582600\n",
      "Epoch 18, CIFAR-10 Batch 2:  Loss:     1.1151 Validation Accuracy: 0.574000\n",
      "Epoch 18, CIFAR-10 Batch 3:  Loss:     0.9759 Validation Accuracy: 0.570600\n",
      "Epoch 18, CIFAR-10 Batch 4:  Loss:     1.0307 Validation Accuracy: 0.574600\n",
      "Epoch 18, CIFAR-10 Batch 5:  Loss:     1.0783 Validation Accuracy: 0.567600\n",
      "Epoch 19, CIFAR-10 Batch 1:  Loss:     1.1325 Validation Accuracy: 0.582800\n",
      "Epoch 19, CIFAR-10 Batch 2:  Loss:     1.0894 Validation Accuracy: 0.582600\n",
      "Epoch 19, CIFAR-10 Batch 3:  Loss:     0.9611 Validation Accuracy: 0.580400\n",
      "Epoch 19, CIFAR-10 Batch 4:  Loss:     1.0385 Validation Accuracy: 0.570600\n",
      "Epoch 19, CIFAR-10 Batch 5:  Loss:     1.0649 Validation Accuracy: 0.569600\n",
      "Epoch 20, CIFAR-10 Batch 1:  Loss:     1.1413 Validation Accuracy: 0.578400\n",
      "Epoch 20, CIFAR-10 Batch 2:  Loss:     1.0721 Validation Accuracy: 0.584000\n",
      "Epoch 20, CIFAR-10 Batch 3:  Loss:     0.9464 Validation Accuracy: 0.575600\n",
      "Epoch 20, CIFAR-10 Batch 4:  Loss:     1.0075 Validation Accuracy: 0.585400\n",
      "Epoch 20, CIFAR-10 Batch 5:  Loss:     1.0465 Validation Accuracy: 0.573400\n",
      "Epoch 21, CIFAR-10 Batch 1:  Loss:     1.1313 Validation Accuracy: 0.578400\n",
      "Epoch 21, CIFAR-10 Batch 2:  Loss:     1.0489 Validation Accuracy: 0.581400\n",
      "Epoch 21, CIFAR-10 Batch 3:  Loss:     0.9576 Validation Accuracy: 0.574400\n",
      "Epoch 21, CIFAR-10 Batch 4:  Loss:     1.0253 Validation Accuracy: 0.571400\n",
      "Epoch 21, CIFAR-10 Batch 5:  Loss:     1.0332 Validation Accuracy: 0.581600\n",
      "Epoch 22, CIFAR-10 Batch 1:  Loss:     1.0931 Validation Accuracy: 0.587200\n",
      "Epoch 22, CIFAR-10 Batch 2:  Loss:     1.0589 Validation Accuracy: 0.569200\n",
      "Epoch 22, CIFAR-10 Batch 3:  Loss:     0.9335 Validation Accuracy: 0.578200\n"
     ]
    },
    {
     "name": "stdout",
     "output_type": "stream",
     "text": [
      "Epoch 22, CIFAR-10 Batch 4:  Loss:     0.9898 Validation Accuracy: 0.589200\n",
      "Epoch 22, CIFAR-10 Batch 5:  Loss:     1.0164 Validation Accuracy: 0.582400\n",
      "Epoch 23, CIFAR-10 Batch 1:  Loss:     1.1026 Validation Accuracy: 0.582200\n",
      "Epoch 23, CIFAR-10 Batch 2:  Loss:     1.0316 Validation Accuracy: 0.586400\n",
      "Epoch 23, CIFAR-10 Batch 3:  Loss:     0.9144 Validation Accuracy: 0.577400\n",
      "Epoch 23, CIFAR-10 Batch 4:  Loss:     0.9798 Validation Accuracy: 0.584800\n",
      "Epoch 23, CIFAR-10 Batch 5:  Loss:     1.0164 Validation Accuracy: 0.575600\n",
      "Epoch 24, CIFAR-10 Batch 1:  Loss:     1.0641 Validation Accuracy: 0.588000\n",
      "Epoch 24, CIFAR-10 Batch 2:  Loss:     1.0112 Validation Accuracy: 0.593200\n",
      "Epoch 24, CIFAR-10 Batch 3:  Loss:     0.8984 Validation Accuracy: 0.589000\n",
      "Epoch 24, CIFAR-10 Batch 4:  Loss:     0.9782 Validation Accuracy: 0.585400\n",
      "Epoch 24, CIFAR-10 Batch 5:  Loss:     0.9844 Validation Accuracy: 0.589000\n",
      "Epoch 25, CIFAR-10 Batch 1:  Loss:     1.0435 Validation Accuracy: 0.592800\n",
      "Epoch 25, CIFAR-10 Batch 2:  Loss:     0.9970 Validation Accuracy: 0.589600\n",
      "Epoch 25, CIFAR-10 Batch 3:  Loss:     0.8715 Validation Accuracy: 0.591800\n",
      "Epoch 25, CIFAR-10 Batch 4:  Loss:     0.9484 Validation Accuracy: 0.592400\n",
      "Epoch 25, CIFAR-10 Batch 5:  Loss:     0.9671 Validation Accuracy: 0.591600\n",
      "Epoch 26, CIFAR-10 Batch 1:  Loss:     1.0345 Validation Accuracy: 0.589800\n",
      "Epoch 26, CIFAR-10 Batch 2:  Loss:     1.0204 Validation Accuracy: 0.583800\n",
      "Epoch 26, CIFAR-10 Batch 3:  Loss:     0.8843 Validation Accuracy: 0.582200\n",
      "Epoch 26, CIFAR-10 Batch 4:  Loss:     0.9681 Validation Accuracy: 0.591000\n",
      "Epoch 26, CIFAR-10 Batch 5:  Loss:     0.9713 Validation Accuracy: 0.591000\n",
      "Epoch 27, CIFAR-10 Batch 1:  Loss:     1.0351 Validation Accuracy: 0.594400\n",
      "Epoch 27, CIFAR-10 Batch 2:  Loss:     0.9996 Validation Accuracy: 0.577200\n",
      "Epoch 27, CIFAR-10 Batch 3:  Loss:     0.8817 Validation Accuracy: 0.587000\n",
      "Epoch 27, CIFAR-10 Batch 4:  Loss:     0.9710 Validation Accuracy: 0.583800\n",
      "Epoch 27, CIFAR-10 Batch 5:  Loss:     0.9969 Validation Accuracy: 0.584600\n",
      "Epoch 28, CIFAR-10 Batch 1:  Loss:     1.0368 Validation Accuracy: 0.588400\n",
      "Epoch 28, CIFAR-10 Batch 2:  Loss:     0.9852 Validation Accuracy: 0.597200\n",
      "Epoch 28, CIFAR-10 Batch 3:  Loss:     0.8821 Validation Accuracy: 0.594200\n",
      "Epoch 28, CIFAR-10 Batch 4:  Loss:     0.9722 Validation Accuracy: 0.592200\n",
      "Epoch 28, CIFAR-10 Batch 5:  Loss:     0.9866 Validation Accuracy: 0.591400\n",
      "Epoch 29, CIFAR-10 Batch 1:  Loss:     1.0084 Validation Accuracy: 0.606000\n",
      "Epoch 29, CIFAR-10 Batch 2:  Loss:     0.9658 Validation Accuracy: 0.602800\n",
      "Epoch 29, CIFAR-10 Batch 3:  Loss:     0.8776 Validation Accuracy: 0.596600\n",
      "Epoch 29, CIFAR-10 Batch 4:  Loss:     0.9383 Validation Accuracy: 0.597400\n",
      "Epoch 29, CIFAR-10 Batch 5:  Loss:     0.9656 Validation Accuracy: 0.597600\n",
      "Epoch 30, CIFAR-10 Batch 1:  Loss:     1.0323 Validation Accuracy: 0.579600\n",
      "Epoch 30, CIFAR-10 Batch 2:  Loss:     0.9727 Validation Accuracy: 0.598800\n",
      "Epoch 30, CIFAR-10 Batch 3:  Loss:     0.8593 Validation Accuracy: 0.594600\n",
      "Epoch 30, CIFAR-10 Batch 4:  Loss:     0.9294 Validation Accuracy: 0.601200\n",
      "Epoch 30, CIFAR-10 Batch 5:  Loss:     0.9644 Validation Accuracy: 0.596200\n",
      "Epoch 31, CIFAR-10 Batch 1:  Loss:     1.0013 Validation Accuracy: 0.592000\n",
      "Epoch 31, CIFAR-10 Batch 2:  Loss:     0.9425 Validation Accuracy: 0.595400\n",
      "Epoch 31, CIFAR-10 Batch 3:  Loss:     0.8599 Validation Accuracy: 0.595000\n",
      "Epoch 31, CIFAR-10 Batch 4:  Loss:     0.9796 Validation Accuracy: 0.581600\n",
      "Epoch 31, CIFAR-10 Batch 5:  Loss:     0.9609 Validation Accuracy: 0.594600\n",
      "Epoch 32, CIFAR-10 Batch 1:  Loss:     0.9760 Validation Accuracy: 0.598800\n",
      "Epoch 32, CIFAR-10 Batch 2:  Loss:     0.9513 Validation Accuracy: 0.596800\n",
      "Epoch 32, CIFAR-10 Batch 3:  Loss:     0.8504 Validation Accuracy: 0.613400\n",
      "Epoch 32, CIFAR-10 Batch 4:  Loss:     0.9098 Validation Accuracy: 0.605600\n",
      "Epoch 32, CIFAR-10 Batch 5:  Loss:     0.9473 Validation Accuracy: 0.602600\n",
      "Epoch 33, CIFAR-10 Batch 1:  Loss:     0.9882 Validation Accuracy: 0.600800\n",
      "Epoch 33, CIFAR-10 Batch 2:  Loss:     0.9319 Validation Accuracy: 0.608200\n",
      "Epoch 33, CIFAR-10 Batch 3:  Loss:     0.8560 Validation Accuracy: 0.603000\n",
      "Epoch 33, CIFAR-10 Batch 4:  Loss:     0.9143 Validation Accuracy: 0.600200\n",
      "Epoch 33, CIFAR-10 Batch 5:  Loss:     0.9382 Validation Accuracy: 0.598800\n",
      "Epoch 34, CIFAR-10 Batch 1:  Loss:     0.9792 Validation Accuracy: 0.592600\n",
      "Epoch 34, CIFAR-10 Batch 2:  Loss:     0.9233 Validation Accuracy: 0.605200\n",
      "Epoch 34, CIFAR-10 Batch 3:  Loss:     0.8475 Validation Accuracy: 0.604000\n",
      "Epoch 34, CIFAR-10 Batch 4:  Loss:     0.9280 Validation Accuracy: 0.602800\n",
      "Epoch 34, CIFAR-10 Batch 5:  Loss:     0.9209 Validation Accuracy: 0.607600\n",
      "Epoch 35, CIFAR-10 Batch 1:  Loss:     0.9824 Validation Accuracy: 0.600600\n",
      "Epoch 35, CIFAR-10 Batch 2:  Loss:     0.9057 Validation Accuracy: 0.602800\n",
      "Epoch 35, CIFAR-10 Batch 3:  Loss:     0.8176 Validation Accuracy: 0.606400\n",
      "Epoch 35, CIFAR-10 Batch 4:  Loss:     0.9268 Validation Accuracy: 0.604800\n",
      "Epoch 35, CIFAR-10 Batch 5:  Loss:     0.9330 Validation Accuracy: 0.604800\n",
      "Epoch 36, CIFAR-10 Batch 1:  Loss:     0.9786 Validation Accuracy: 0.597200\n",
      "Epoch 36, CIFAR-10 Batch 2:  Loss:     0.9114 Validation Accuracy: 0.599200\n",
      "Epoch 36, CIFAR-10 Batch 3:  Loss:     0.8373 Validation Accuracy: 0.609600\n",
      "Epoch 36, CIFAR-10 Batch 4:  Loss:     0.8940 Validation Accuracy: 0.607000\n",
      "Epoch 36, CIFAR-10 Batch 5:  Loss:     0.9101 Validation Accuracy: 0.610200\n",
      "Epoch 37, CIFAR-10 Batch 1:  Loss:     0.9469 Validation Accuracy: 0.611600\n",
      "Epoch 37, CIFAR-10 Batch 2:  Loss:     0.8767 Validation Accuracy: 0.609600\n",
      "Epoch 37, CIFAR-10 Batch 3:  Loss:     0.7985 Validation Accuracy: 0.617400\n",
      "Epoch 37, CIFAR-10 Batch 4:  Loss:     0.8960 Validation Accuracy: 0.618800\n",
      "Epoch 37, CIFAR-10 Batch 5:  Loss:     0.9190 Validation Accuracy: 0.608000\n",
      "Epoch 38, CIFAR-10 Batch 1:  Loss:     0.9367 Validation Accuracy: 0.606400\n",
      "Epoch 38, CIFAR-10 Batch 2:  Loss:     0.8962 Validation Accuracy: 0.602800\n",
      "Epoch 38, CIFAR-10 Batch 3:  Loss:     0.8346 Validation Accuracy: 0.607200\n",
      "Epoch 38, CIFAR-10 Batch 4:  Loss:     0.9134 Validation Accuracy: 0.604600\n",
      "Epoch 38, CIFAR-10 Batch 5:  Loss:     0.9089 Validation Accuracy: 0.615800\n",
      "Epoch 39, CIFAR-10 Batch 1:  Loss:     0.9383 Validation Accuracy: 0.606000\n",
      "Epoch 39, CIFAR-10 Batch 2:  Loss:     0.8690 Validation Accuracy: 0.611400\n",
      "Epoch 39, CIFAR-10 Batch 3:  Loss:     0.8289 Validation Accuracy: 0.616200\n",
      "Epoch 39, CIFAR-10 Batch 4:  Loss:     0.8859 Validation Accuracy: 0.615000\n",
      "Epoch 39, CIFAR-10 Batch 5:  Loss:     0.9136 Validation Accuracy: 0.613200\n",
      "Epoch 40, CIFAR-10 Batch 1:  Loss:     0.9385 Validation Accuracy: 0.606800\n",
      "Epoch 40, CIFAR-10 Batch 2:  Loss:     0.8732 Validation Accuracy: 0.603800\n",
      "Epoch 40, CIFAR-10 Batch 3:  Loss:     0.8251 Validation Accuracy: 0.606200\n",
      "Epoch 40, CIFAR-10 Batch 4:  Loss:     0.9033 Validation Accuracy: 0.604000\n",
      "Epoch 40, CIFAR-10 Batch 5:  Loss:     0.8988 Validation Accuracy: 0.618000\n"
     ]
    }
   ],
   "source": [
    "\"\"\"\n",
    "DON'T MODIFY ANYTHING IN THIS CELL\n",
    "\"\"\"\n",
    "save_model_path = './image_classification'\n",
    "\n",
    "print('Training...')\n",
    "with tf.Session() as sess:\n",
    "    # Initializing the variables\n",
    "    sess.run(tf.global_variables_initializer())\n",
    "    \n",
    "    # Training cycle\n",
    "    for epoch in range(epochs):\n",
    "        # Loop over all batches\n",
    "        n_batches = 5\n",
    "        for batch_i in range(1, n_batches + 1):\n",
    "            for batch_features, batch_labels in helper.load_preprocess_training_batch(batch_i, batch_size):\n",
    "                train_neural_network(sess, optimizer, keep_probability, batch_features, batch_labels)\n",
    "            print('Epoch {:>2}, CIFAR-10 Batch {}:  '.format(epoch + 1, batch_i), end='')\n",
    "            print_stats(sess, batch_features, batch_labels, cost, accuracy)\n",
    "            \n",
    "    # Save Model\n",
    "    saver = tf.train.Saver()\n",
    "    save_path = saver.save(sess, save_model_path)"
   ]
  },
  {
   "cell_type": "markdown",
   "metadata": {},
   "source": [
    "# Checkpoint\n",
    "The model has been saved to disk.\n",
    "## Test Model\n",
    "Test your model against the test dataset.  This will be your final accuracy. You should have an accuracy greater than 50%. If you don't, keep tweaking the model architecture and parameters."
   ]
  },
  {
   "cell_type": "code",
   "execution_count": 16,
   "metadata": {},
   "outputs": [
    {
     "name": "stdout",
     "output_type": "stream",
     "text": [
      "INFO:tensorflow:Restoring parameters from ./image_classification\n",
      "Testing Accuracy: 0.6181525737047195\n",
      "\n"
     ]
    },
    {
     "data": {
      "image/png": "[encoded data removed]",
      "text/plain": [
       "<matplotlib.figure.Figure at 0xcfe91d0>"
      ]
     },
     "metadata": {
      "image/png": {
       "height": 319,
       "width": 355
      }
     },
     "output_type": "display_data"
    }
   ],
   "source": [
    "\"\"\"\n",
    "DON'T MODIFY ANYTHING IN THIS CELL\n",
    "\"\"\"\n",
    "%matplotlib inline\n",
    "%config InlineBackend.figure_format = 'retina'\n",
    "\n",
    "import tensorflow as tf\n",
    "import pickle\n",
    "import helper\n",
    "import random\n",
    "\n",
    "# Set batch size if not already set\n",
    "try:\n",
    "    if batch_size:\n",
    "        pass\n",
    "except NameError:\n",
    "    batch_size = 64\n",
    "\n",
    "save_model_path = './image_classification'\n",
    "n_samples = 4\n",
    "top_n_predictions = 3\n",
    "\n",
    "def test_model():\n",
    "    \"\"\"\n",
    "    Test the saved model against the test dataset\n",
    "    \"\"\"\n",
    "\n",
    "    test_features, test_labels = pickle.load(open('preprocess_test.p', mode='rb'))\n",
    "    loaded_graph = tf.Graph()\n",
    "\n",
    "    with tf.Session(graph=loaded_graph) as sess:\n",
    "        # Load model\n",
    "        loader = tf.train.import_meta_graph(save_model_path + '.meta')\n",
    "        loader.restore(sess, save_model_path)\n",
    "\n",
    "        # Get Tensors from loaded model\n",
    "        loaded_x = loaded_graph.get_tensor_by_name('x:0')\n",
    "        loaded_y = loaded_graph.get_tensor_by_name('y:0')\n",
    "        loaded_keep_prob = loaded_graph.get_tensor_by_name('keep_prob:0')\n",
    "        loaded_logits = loaded_graph.get_tensor_by_name('logits:0')\n",
    "        loaded_acc = loaded_graph.get_tensor_by_name('accuracy:0')\n",
    "        \n",
    "        # Get accuracy in batches for memory limitations\n",
    "        test_batch_acc_total = 0\n",
    "        test_batch_count = 0\n",
    "        \n",
    "        for test_feature_batch, test_label_batch in helper.batch_features_labels(test_features, test_labels, batch_size):\n",
    "            test_batch_acc_total += sess.run(\n",
    "                loaded_acc,\n",
    "                feed_dict={loaded_x: test_feature_batch, loaded_y: test_label_batch, loaded_keep_prob: 1.0})\n",
    "            test_batch_count += 1\n",
    "\n",
    "        print('Testing Accuracy: {}\\n'.format(test_batch_acc_total/test_batch_count))\n",
    "\n",
    "        # Print Random Samples\n",
    "        random_test_features, random_test_labels = tuple(zip(*random.sample(list(zip(test_features, test_labels)), n_samples)))\n",
    "        random_test_predictions = sess.run(\n",
    "            tf.nn.top_k(tf.nn.softmax(loaded_logits), top_n_predictions),\n",
    "            feed_dict={loaded_x: random_test_features, loaded_y: random_test_labels, loaded_keep_prob: 1.0})\n",
    "        helper.display_image_predictions(random_test_features, random_test_labels, random_test_predictions)\n",
    "\n",
    "\n",
    "test_model()"
   ]
  },
  {
   "cell_type": "markdown",
   "metadata": {},
   "source": [
    "## Why 50-80% Accuracy?\n",
    "You might be wondering why you can't get an accuracy any higher. First things first, 50% isn't bad for a simple CNN.  Pure guessing would get you 10% accuracy. However, you might notice people are getting scores [well above 80%](http://rodrigob.github.io/are_we_there_yet/build/classification_datasets_results.html#43494641522d3130).  That's because we haven't taught you all there is to know about neural networks. We still need to cover a few more techniques.\n",
    "## Submitting This Project\n",
    "When submitting this project, make sure to run all the cells before saving the notebook.  Save the notebook file as \"dlnd_image_classification.ipynb\" and save it as a HTML file under \"File\" -> \"Download as\".  Include the \"helper.py\" and \"problem_unittests.py\" files in your submission."
   ]
  }
 ],
 "metadata": {
  "kernelspec": {
   "display_name": "Python 3",
   "language": "python",
   "name": "python3"
  },
  "language_info": {
   "codemirror_mode": {
    "name": "ipython",
    "version": 3
   },
   "file_extension": ".py",
   "mimetype": "text/x-python",
   "name": "python",
   "nbconvert_exporter": "python",
   "pygments_lexer": "ipython3",
   "version": "3.6.6"
  }
 },
 "nbformat": 4,
 "nbformat_minor": 1
}
